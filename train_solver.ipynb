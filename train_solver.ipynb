{
 "cells": [
  {
   "cell_type": "code",
   "execution_count": 1,
   "metadata": {},
   "outputs": [],
   "source": [
    "import torch\n",
    "import torch.nn as nn\n",
    "import numpy as np\n",
    "from PIL import Image\n",
    "import os\n",
    "encoding = '2345678bcdefgmnpwxy'\n",
    "freq = [0]*len(encoding)\n",
    "\n",
    "class Captcha(torch.utils.data.Dataset):\n",
    "    def __init__(self, transform):\n",
    "        self.img_list = []\n",
    "        self.label_list = []\n",
    "        self.transform = transform\n",
    "        for root, dirs, files in os.walk('samples'):\n",
    "            if root == 'samples':\n",
    "                self.img_list.extend(files)\n",
    "                for f in files:\n",
    "                    label = []\n",
    "                    for i in range(5):\n",
    "                        label.append(encoding.index(f[i]))\n",
    "                        freq[encoding.index(f[i])]+=1\n",
    "                    self.label_list.append(label)\n",
    "        \n",
    "    def __getitem__(self, index):\n",
    "        prefix = 'samples/'\n",
    "        img = Image.open(prefix+self.img_list[index])\n",
    "        return {\n",
    "            'img': self.transform(img),\n",
    "            'label': torch.Tensor(self.label_list[index]).long()\n",
    "        }\n",
    "    def __len__(self):\n",
    "        return len(self.img_list)"
   ]
  },
  {
   "cell_type": "code",
   "execution_count": 2,
   "metadata": {},
   "outputs": [],
   "source": [
    "from torchvision import transforms\n",
    "transform = transforms.Compose([\n",
    "                transforms.Resize((56, 224)),\n",
    "                transforms.Grayscale(),\n",
    "                transforms.Pad((0, 84, 0, 84)),\n",
    "                transforms.ToTensor()])"
   ]
  },
  {
   "cell_type": "code",
   "execution_count": 3,
   "metadata": {},
   "outputs": [
    {
     "data": {
      "image/png": "[encoded data removed]",
      "text/plain": [
       "<Figure size 432x288 with 1 Axes>"
      ]
     },
     "metadata": {
      "needs_background": "light"
     },
     "output_type": "display_data"
    },
    {
     "name": "stdout",
     "output_type": "stream",
     "text": [
      "torch.Size([1, 224, 224])\n",
      "Label: p5g5m\n",
      "Number of data: 1070\n"
     ]
    }
   ],
   "source": [
    "import matplotlib.pyplot as plt\n",
    "dataset = Captcha(transform)\n",
    "plt.imshow(dataset[0]['img'].permute(1, 2, 0), cmap='gray')\n",
    "plt.show()\n",
    "print(dataset[0]['img'].size())\n",
    "print('Label: ', end='')\n",
    "for l in dataset[0]['label']:\n",
    "    print(encoding[int(l.item())], end='')\n",
    "print()\n",
    "print(\"Number of data:\", len(dataset))"
   ]
  },
  {
   "cell_type": "code",
   "execution_count": 4,
   "metadata": {},
   "outputs": [],
   "source": [
    "import torchvision.models as models\n",
    "class CaptchaSolver(nn.Module):\n",
    "    def __init__(self):\n",
    "        super(CaptchaSolver, self).__init__()\n",
    "        self.resnet = models.resnet50(pretrained=True)\n",
    "        self.resnet.conv1 = nn.Conv2d(1, 64, kernel_size=7, stride=2, padding=3, bias=False)\n",
    "        self.fc0 = nn.Linear(1000, len(encoding))\n",
    "        self.fc1 = nn.Linear(1000, len(encoding))\n",
    "        self.fc2 = nn.Linear(1000, len(encoding))\n",
    "        self.fc3 = nn.Linear(1000, len(encoding))\n",
    "        self.fc4 = nn.Linear(1000, len(encoding))\n",
    "    def forward(self, x):\n",
    "        x = self.resnet(x)\n",
    "        out = []\n",
    "        out.append(self.fc0(x))\n",
    "        out.append(self.fc1(x))\n",
    "        out.append(self.fc2(x))\n",
    "        out.append(self.fc3(x))\n",
    "        out.append(self.fc4(x))\n",
    "        return out\n",
    "captchaSolver = CaptchaSolver().cuda()"
   ]
  },
  {
   "cell_type": "code",
   "execution_count": 5,
   "metadata": {},
   "outputs": [],
   "source": [
    "from torch.utils.data import DataLoader\n",
    "train_loader = DataLoader(dataset, batch_size=32, shuffle=True)\n",
    "\n",
    "criterion = nn.CrossEntropyLoss().cuda()\n",
    "optimizer = torch.optim.Adam(captchaSolver.parameters())\n",
    "\n",
    "max_epochs = 15\n",
    "log_interval = 1"
   ]
  },
  {
   "cell_type": "code",
   "execution_count": 6,
   "metadata": {},
   "outputs": [
    {
     "name": "stdout",
     "output_type": "stream",
     "text": [
      "Start training...\n",
      "\n",
      "==================== Epoch 1 ====================\n",
      "Train Acc: 0.000000 Train Loss: 15.355128\n",
      "\n",
      "==================== Epoch 2 ====================\n",
      "Train Acc: 0.000000 Train Loss: 12.834360\n",
      "\n",
      "==================== Epoch 3 ====================\n",
      "Train Acc: 0.001869 Train Loss: 10.501959\n",
      "\n",
      "==================== Epoch 4 ====================\n",
      "Train Acc: 0.017757 Train Loss: 8.178619\n",
      "\n",
      "==================== Epoch 5 ====================\n",
      "Train Acc: 0.040187 Train Loss: 6.385097\n",
      "\n",
      "==================== Epoch 6 ====================\n",
      "Train Acc: 0.114019 Train Loss: 4.899774\n",
      "\n",
      "==================== Epoch 7 ====================\n",
      "Train Acc: 0.247664 Train Loss: 3.576752\n",
      "\n",
      "==================== Epoch 8 ====================\n",
      "Train Acc: 0.421495 Train Loss: 2.511960\n",
      "\n",
      "==================== Epoch 9 ====================\n",
      "Train Acc: 0.520561 Train Loss: 1.884671\n",
      "\n",
      "==================== Epoch 10 ====================\n",
      "Train Acc: 0.597196 Train Loss: 1.401313\n",
      "\n",
      "==================== Epoch 11 ====================\n",
      "Train Acc: 0.675701 Train Loss: 1.064387\n",
      "\n",
      "==================== Epoch 12 ====================\n",
      "Train Acc: 0.759813 Train Loss: 0.852189\n",
      "\n",
      "==================== Epoch 13 ====================\n",
      "Train Acc: 0.839252 Train Loss: 0.628787\n",
      "\n",
      "==================== Epoch 14 ====================\n",
      "Train Acc: 0.860748 Train Loss: 0.467227\n",
      "\n",
      "==================== Epoch 15 ====================\n",
      "Train Acc: 0.880374 Train Loss: 0.385221\n"
     ]
    }
   ],
   "source": [
    "avg_acc_list = []\n",
    "avg_loss_list = []\n",
    "\n",
    "print(\"Start training...\")\n",
    "for epoch in range(1, max_epochs+1):\n",
    "    loss_list = []\n",
    "    total_count = 0\n",
    "    acc_count = 0\n",
    "    captchaSolver.train()\n",
    "    for data in train_loader:\n",
    "        optimizer.zero_grad()\n",
    "        img = data['img'].cuda()\n",
    "        label = data['label'].cuda()\n",
    "        out = captchaSolver(img)\n",
    "        loss = None\n",
    "        for i in range(5):\n",
    "            if loss is None:\n",
    "                loss = criterion(out[i], label[:, i])\n",
    "            else:\n",
    "                loss += criterion(out[i], label[:, i])\n",
    "        loss.backward()\n",
    "        optimizer.step()\n",
    "        loss_list.append(loss.item())\n",
    "        pred_label = None\n",
    "        for i in range(5):\n",
    "            _, pred = torch.max(out[i], 1)\n",
    "            if pred_label is None:\n",
    "                pred_label = pred.view(-1, 1)\n",
    "            else:\n",
    "                pred_label = torch.cat((pred_label, pred.view(-1, 1)), 1)\n",
    "        assert label.shape[0]==((pred_label == label).all(1).shape[0])\n",
    "        total_count += label.shape[0]\n",
    "        acc_count += (pred_label == label).all(1).sum().item()\n",
    "    acc = acc_count / total_count\n",
    "    loss = sum(loss_list) / len(loss_list)\n",
    "    avg_acc_list.append(acc)\n",
    "    avg_loss_list.append(loss)\n",
    "    torch.save(captchaSolver.state_dict(), 'captcha_solver_params.pth')\n",
    "        \n",
    "    if epoch % log_interval == 0:\n",
    "        print('')\n",
    "        print('=' * 20, 'Epoch', epoch, '=' * 20)\n",
    "        print('Train Acc: {:.6f} Train Loss: {:.6f}'.format(acc, loss))"
   ]
  },
  {
   "cell_type": "code",
   "execution_count": null,
   "metadata": {},
   "outputs": [],
   "source": []
  },
  {
   "cell_type": "code",
   "execution_count": null,
   "metadata": {},
   "outputs": [],
   "source": []
  }
 ],
 "metadata": {
  "kernelspec": {
   "display_name": "Python 3",
   "language": "python",
   "name": "python3"
  },
  "language_info": {
   "codemirror_mode": {
    "name": "ipython",
    "version": 3
   },
   "file_extension": ".py",
   "mimetype": "text/x-python",
   "name": "python",
   "nbconvert_exporter": "python",
   "pygments_lexer": "ipython3",
   "version": "3.6.8"
  }
 },
 "nbformat": 4,
 "nbformat_minor": 4
}
